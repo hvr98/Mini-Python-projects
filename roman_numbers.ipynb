{
 "cells": [
  {
   "cell_type": "markdown",
   "id": "a25ac53f",
   "metadata": {},
   "source": [
    "# Convert roman numbers"
   ]
  },
  {
   "cell_type": "code",
   "execution_count": 13,
   "id": "574bd98d",
   "metadata": {},
   "outputs": [
    {
     "name": "stdout",
     "output_type": "stream",
     "text": [
      "The roman number you enter is equal to: 84\n"
     ]
    }
   ],
   "source": [
    "number_input = input(\"Enter the roman number you want to convert: \")\n",
    "\n",
    "#creating the convert function\n",
    "def roman_to_int(number):\n",
    "    answer = 0\n",
    "\n",
    "    #handle edge cases\n",
    "    if \"IV\" in number:\n",
    "        answer += 4\n",
    "        number = number.replace(\"IV\",\"\")\n",
    "    if \"IX\" in number:\n",
    "        answer += 9\n",
    "        number = number.replace(\"IX\",\"\")\n",
    "    if \"XL\" in number:\n",
    "        answer += 40\n",
    "        number = number.replace (\"XL\",\"\")\n",
    "    if \"XC\" in number:\n",
    "        answer += 90\n",
    "        number = number.replace(\"XC\",\"\")\n",
    "    if \"CD\" in number:\n",
    "        answer += 400\n",
    "        number = number.replace(\"CD\",\"\")\n",
    "    if \"CM\" in number:\n",
    "        answer += 900\n",
    "        number = number.replace(\"CM\",\"\") \n",
    "\n",
    "\n",
    "\n",
    "    #creating loop \n",
    "    for i in number:\n",
    "        if i == \"I\":\n",
    "            answer += 1\n",
    "        elif i == \"V\":\n",
    "            answer += 5\n",
    "        elif i == \"X\":\n",
    "            answer += 10\n",
    "        elif i == \"L\":\n",
    "            answer += 50\n",
    "        elif i == \"C\":\n",
    "            answer += 100\n",
    "        elif i == \"D\":\n",
    "            answer += 500\n",
    "        elif i == \"M\":\n",
    "            answer += 1000\n",
    "            \n",
    "    print(\"The roman number you enter is equal to: \" + str(answer))\n",
    "\n",
    "roman_to_int(number_input)"
   ]
  }
 ],
 "metadata": {
  "kernelspec": {
   "display_name": "Python 3",
   "language": "python",
   "name": "python3"
  },
  "language_info": {
   "codemirror_mode": {
    "name": "ipython",
    "version": 3
   },
   "file_extension": ".py",
   "mimetype": "text/x-python",
   "name": "python",
   "nbconvert_exporter": "python",
   "pygments_lexer": "ipython3",
   "version": "3.12.3"
  }
 },
 "nbformat": 4,
 "nbformat_minor": 5
}
