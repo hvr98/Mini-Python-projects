{
 "cells": [
  {
   "cell_type": "markdown",
   "id": "29734b59",
   "metadata": {},
   "source": [
    "# Word guessing game"
   ]
  },
  {
   "cell_type": "code",
   "execution_count": 1,
   "id": "415f60aa",
   "metadata": {},
   "outputs": [],
   "source": [
    "import random"
   ]
  },
  {
   "cell_type": "code",
   "execution_count": null,
   "id": "9c4009fa",
   "metadata": {},
   "outputs": [
    {
     "name": "stdout",
     "output_type": "stream",
     "text": [
      "Wrong guess! Attempts left: 9\n",
      "Wrong guess! Attempts left: 8\n",
      "Wrong guess! Attempts left: 7\n",
      "Great guess! ['_', '_', '_', '_', 'e', '_']\n",
      "Great guess! ['s', '_', '_', '_', 'e', '_']\n",
      "Great guess! ['s', '_', '_', '_', 'e', '_']\n",
      "Great guess! ['s', 'u', '_', '_', 'e', '_']\n",
      "Great guess! ['s', 'u', 'm', 'm', 'e', '_']\n",
      "Great guess! ['s', 'u', 'm', 'm', 'e', 'r']\n",
      "\n",
      "Congratulations!! You guessed the word: summer\n"
     ]
    }
   ],
   "source": [
    "#creating the word bank\n",
    "word_bank = ['apple','visitor','existence','shape','squirrel', 'giant','eyes','purple','watermelon','summer']\n",
    "\n",
    "#randomly choosing the word to be chosen\n",
    "word = random.choice(word_bank)\n",
    "\n",
    "#placeholders for the word chosen\n",
    "guessedWord = ['_'] * len(word)\n",
    "\n",
    "#choosing how many attemps\n",
    "attempts = 10\n",
    "\n",
    "while attempts > 0:\n",
    "\n",
    "   guess = input('Guess a letter:')\n",
    "   \n",
    "   #for loop\n",
    "   if guess in word:\n",
    "      for i in range(len(word)):\n",
    "         if word[i] == guess:\n",
    "            guessedWord[i] = guess\n",
    "      print('Great guess! '+ str(guessedWord))\n",
    "   else:\n",
    "      attempts -= 1\n",
    "      print('Wrong guess! Attempts left: ' + str(attempts))\n",
    "      \n",
    "   if ('_') not in guessedWord:\n",
    "      print('\\nCongratulations!! You guessed the word: ' + word)\n",
    "      break\n",
    "\n",
    "\n",
    "if ('_') in guessedWord: \n",
    "   print('\\nYou\\'ve run out of attempts! The word was: ' + word)\n",
    "\n",
    "\n",
    "\n",
    "\n"
   ]
  },
  {
   "cell_type": "code",
   "execution_count": null,
   "id": "a29cbca7",
   "metadata": {},
   "outputs": [],
   "source": []
  }
 ],
 "metadata": {
  "kernelspec": {
   "display_name": "Python 3",
   "language": "python",
   "name": "python3"
  },
  "language_info": {
   "codemirror_mode": {
    "name": "ipython",
    "version": 3
   },
   "file_extension": ".py",
   "mimetype": "text/x-python",
   "name": "python",
   "nbconvert_exporter": "python",
   "pygments_lexer": "ipython3",
   "version": "3.12.3"
  }
 },
 "nbformat": 4,
 "nbformat_minor": 5
}
